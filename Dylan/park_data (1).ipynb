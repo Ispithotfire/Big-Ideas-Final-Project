{
 "cells": [
  {
   "cell_type": "markdown",
   "metadata": {},
   "source": [
    "# The Best NeighborHood in Pittsburgh"
   ]
  },
  {
   "cell_type": "markdown",
   "metadata": {},
   "source": [
    "### Metric\n",
    "\n",
    "To determine the best neighborhood in Pittsburgh, I looked which neighborhood has the most park and recreational spaces, since the more park and recreational space likely means a higher quality of life for the residents of each neighborhood.  For this metirc, I looked at two different lists from the same data set to determine the neighborhoods with the most park and rec space, one with traffic islands/medians and one without traffic islands/medians, and cross referenced the results to find the best neighborhood.  I am doing this because in the data set, the traffic islands/medians they use range from a large patch of grass to concrete slaps in the road, so in order to get the best possible result."
   ]
  },
  {
   "cell_type": "markdown",
   "metadata": {},
   "source": [
    "### The 10 neighborhoods in Pittsburgh with the most parks, building grounds,\n",
    "### open space, memorials, and traffic islands/medians"
   ]
  },
  {
   "cell_type": "code",
   "execution_count": 1,
   "metadata": {},
   "outputs": [
    {
     "name": "stdout",
     "output_type": "stream",
     "text": [
      "                 neighborhood  Count\n",
      "22               East Liberty     12\n",
      "13  Central Business District     10\n",
      "5                   Beechview      8\n",
      "50               Point Breeze      7\n",
      "57          South Side Slopes      7\n",
      "61        Squirrel Hill South      6\n",
      "30                  Hazelwood      6\n",
      "54                   Sheraden      6\n",
      "43           Mount Washington      6\n",
      "56           South Side Flats      6\n"
     ]
    },
    {
     "data": {
      "text/plain": [
       "<Axes: >"
      ]
     },
     "execution_count": 1,
     "metadata": {},
     "output_type": "execute_result"
    },
    {
     "data": {
      "image/png": "[encoded data removed]",
      "text/plain": [
       "<Figure size 640x480 with 1 Axes>"
      ]
     },
     "metadata": {},
     "output_type": "display_data"
    }
   ],
   "source": [
    "import pandas as pd\n",
    "\n",
    "read = pd.read_csv(\"https://data.wprdc.org/datastore/dump/fa329e3d-89ff-4708-8ddf-81bfedcad11d\")\n",
    "\n",
    "grouped = read.groupby(['neighborhood', 'type']).size().reset_index(name='Count')\n",
    "\n",
    "total_per_neighborhood = grouped.groupby('neighborhood')['Count'].sum().reset_index()\n",
    "\n",
    "sorted_neighborhoods = total_per_neighborhood.sort_values(by='Count', ascending=False)\n",
    "\n",
    "# Display the top results with Traffic Island/Median\n",
    "print(sorted_neighborhoods.head(10))\n",
    "\n",
    "first_10 = sorted_neighborhoods.head(10)\n",
    "\n",
    "first_10['Count'].hist()\n"
   ]
  },
  {
   "cell_type": "markdown",
   "metadata": {},
   "source": [
    "### The 10 neighborhoods in Pittsburgh with the most parks, building grounds,\n",
    "### open space, memorials, but without traffic islands/medians"
   ]
  },
  {
   "cell_type": "code",
   "execution_count": 12,
   "metadata": {},
   "outputs": [
    {
     "name": "stdout",
     "output_type": "stream",
     "text": [
      "                 neighborhood  Count\n",
      "5                   Beechview      7\n",
      "56          South Side Slopes      7\n",
      "30                  Hazelwood      6\n",
      "43           Mount Washington      6\n",
      "53                   Sheraden      6\n",
      "55           South Side Flats      6\n",
      "13  Central Business District      5\n",
      "65                  Troy Hill      5\n",
      "22               East Liberty      4\n",
      "40         Marshall-Shadeland      4\n"
     ]
    },
    {
     "data": {
      "text/plain": [
       "<Axes: >"
      ]
     },
     "execution_count": 12,
     "metadata": {},
     "output_type": "execute_result"
    },
    {
     "data": {
      "image/png": "[encoded data removed]",
      "text/plain": [
       "<Figure size 640x480 with 1 Axes>"
      ]
     },
     "metadata": {},
     "output_type": "display_data"
    }
   ],
   "source": [
    "import pandas as pd\n",
    "\n",
    "read = pd.read_csv(\"https://data.wprdc.org/datastore/dump/fa329e3d-89ff-4708-8ddf-81bfedcad11d\")\n",
    "\n",
    "# Filter out \"Traffic Island/Median\"\n",
    "filtered = read[read['type'] != 'Traffic Island/Median']\n",
    "\n",
    "# Count the number of each non Traffic Island/Median per neighborhood\n",
    "park_counts = filtered.groupby(['neighborhood', 'type']).size().reset_index(name='Count')\n",
    "\n",
    "total_for_filtered = park_counts.groupby('neighborhood')['Count'].sum().reset_index()\n",
    "\n",
    "sorted_filtered = total_for_filtered.sort_values(by='Count', ascending=False)\n",
    "\n",
    "# Display the top results without Traffic Island/Median\n",
    "print(sorted_filtered.head(10))\n",
    "\n",
    "first_10 = sorted_filtered.head(10)\n",
    "\n",
    "first_10['Count'].hist()"
   ]
  },
  {
   "cell_type": "markdown",
   "metadata": {},
   "source": [
    "### Conclusion\n",
    "\n",
    "After looking over the results of the two different tests I did and seeing which one was the highest on both lists and had the least amount of change, I found the best neighborhood in Pittsburgh to be The South Side Slopes.    "
   ]
  },
  {
   "cell_type": "markdown",
   "metadata": {},
   "source": []
  }
 ],
 "metadata": {
  "kernelspec": {
   "display_name": "Python 3",
   "language": "python",
   "name": "python3"
  },
  "language_info": {
   "codemirror_mode": {
    "name": "ipython",
    "version": 3
   },
   "file_extension": ".py",
   "mimetype": "text/x-python",
   "name": "python",
   "nbconvert_exporter": "python",
   "pygments_lexer": "ipython3",
   "version": "3.12.1"
  }
 },
 "nbformat": 4,
 "nbformat_minor": 2
}
